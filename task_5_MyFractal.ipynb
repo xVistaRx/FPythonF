{
 "cells": [
  {
   "attachments": {},
   "cell_type": "markdown",
   "metadata": {},
   "source": [
    "# Мой фрактал (♥или о том как кто-то пытался проявить своё творчество♥)"
   ]
  },
  {
   "attachments": {},
   "cell_type": "markdown",
   "metadata": {},
   "source": [
    "Если поморгать, то будет визуальная иллюзия)))"
   ]
  },
  {
   "cell_type": "code",
   "execution_count": 1,
   "metadata": {},
   "outputs": [
    {
     "name": "stdout",
     "output_type": "stream",
     "text": [
      "(-0.00,290.99)\n"
     ]
    }
   ],
   "source": [
    "from turtle import *\n",
    "import turtle as tl\n",
    "\n",
    "n = 8\n",
    "tl.bgcolor(\"black\")\n",
    "tl.delay(1)\n",
    "tl.speed(10)\n",
    "tl.pencolor(\"green\")\n",
    "\n",
    "for i in range(1, n * 4 + 1):  # 1-ый ♥треугольник♥\n",
    "    tl.forward(i * 8)\n",
    "\n",
    "    tl.right(120)\n",
    "\n",
    "tl.left(60)\n",
    "tl.color(\"orange\")\n",
    "\n",
    "for i in range(n * 4 + 1, 1, -1):  # 2-ой ☺треугольник☺\n",
    "    tl.forward(i * 8)\n",
    "\n",
    "    tl.right(120)\n",
    "\n",
    "tl.right(60)\n",
    "tl.delay(0)\n",
    "tl.speed(10)\n",
    "\n",
    "for i in range(2, n * 4 + 2):  # ♫обратка♫\n",
    "    tl.forward(i * 8)\n",
    "\n",
    "    tl.left(120)\n",
    "\n",
    "tl.color(\"blue\")\n",
    "tl.delay(1)\n",
    "tl.speed(10)\n",
    "tl.right(120)\n",
    "tl.forward(5)\n",
    "\n",
    "for i in range(n * 4 + 1, 1, -1):  # 3-ий ☺треугольник☺\n",
    "    tl.forward(i * 8)\n",
    "\n",
    "    tl.left(120)\n",
    "\n",
    "tl.left(60)\n",
    "tl.delay(0)\n",
    "tl.speed(10)\n",
    "\n",
    "for i in range(2, n * 4 + 2):  # ♫обратка♫\n",
    "    tl.forward(i * 8)\n",
    "\n",
    "    tl.right(120)\n",
    "\n",
    "tl.delay(1)\n",
    "tl.speed(10)\n",
    "tl.goto(0, -152.42)\n",
    "tl.forward(256)\n",
    "tl.color(\"red\")\n",
    "tl.left(60)\n",
    "\n",
    "for i in range(n * 4 + 1, 1, -1):  # 4-ый ☺треугольник☺\n",
    "    if i == 33:\n",
    "        tl.forward(i * 8 - 8)\n",
    "        print(tl.pos())\n",
    "    else:\n",
    "        tl.forward(i * 8)\n",
    "\n",
    "    tl.left(120)\n",
    "tl.penup()\n",
    "tl.goto(-0.00, 290.99)\n",
    "tl.pendown()\n",
    "\n",
    "tl.color(\"purple\")\n",
    "tl.pensize(2)\n",
    "rad = 5\n",
    "n = 10\n",
    "\n",
    "for i in range(2, n + 1, 2):\n",
    "    tl.circle(rad * i)\n",
    "\n",
    "tl.penup()\n",
    "tl.goto(-72, 97)\n",
    "tl.pendown()\n",
    "tl.begin_fill()\n",
    "tl.fillcolor(\"yellow\")\n",
    "\n",
    "\n",
    "def drawoval(rad):\n",
    "    for x in range(2):\n",
    "        tl.circle(rad, 90)\n",
    "        tl.circle(rad // 2, 90)\n",
    "\n",
    "\n",
    "tl.seth(-45)\n",
    "drawoval(100)\n",
    "\n",
    "tl.end_fill()\n",
    "tl.penup()\n",
    "tl.goto(20, 105)\n",
    "tl.pendown()\n",
    "tl.begin_fill()\n",
    "tl.fillcolor(\"black\")\n",
    "tl.circle(20)\n",
    "tl.end_fill()\n",
    "\n",
    "tl.done()"
   ]
  },
  {
   "attachments": {},
   "cell_type": "markdown",
   "metadata": {},
   "source": [
    "Советую еще прокрутить код для наблюдения за процессом. (завораживающий, как по мне)"
   ]
  },
  {
   "attachments": {
    "image.png": {
     "image/png": "[encoded data removed]"
    }
   },
   "cell_type": "markdown",
   "metadata": {},
   "source": [
    "![image.png](attachment:image.png)"
   ]
  }
 ],
 "metadata": {
  "kernelspec": {
   "display_name": "Python 3",
   "language": "python",
   "name": "python3"
  },
  "language_info": {
   "codemirror_mode": {
    "name": "ipython",
    "version": 3
   },
   "file_extension": ".py",
   "mimetype": "text/x-python",
   "name": "python",
   "nbconvert_exporter": "python",
   "pygments_lexer": "ipython3",
   "version": "3.11.1"
  },
  "vscode": {
   "interpreter": {
    "hash": "584cc8f0d449d89b5866eb870d097caef796fcbdeb82990e5be9128599301d79"
   }
  }
 },
 "nbformat": 4,
 "nbformat_minor": 4
}
